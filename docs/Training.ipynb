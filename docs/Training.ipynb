{
 "cells": [
  {
   "cell_type": "markdown",
   "metadata": {},
   "source": [
    "## Tools\n",
    "\n",
    "- Julia (https://julialang.org/downloads/)\n",
    "- SourceTree (https://www.sourcetreeapp.com/) and Git (https://git-scm.com/downloads)\n",
    "- JupyterLab (http://jupyter.org/)\n",
    "- Atom / Juno\n",
    "- GitHub and GitLab (www.github.com, https://about.gitlab.com/)\n",
    "- Git\n",
    "- Gitter\n",
    "- Salome\n",
    "- Paraview\n",
    "- Anaconda (https://www.anaconda.com/download/)"
   ]
  },
  {
   "cell_type": "markdown",
   "metadata": {},
   "source": [
    "## Exercise 1: communication\n",
    "\n",
    "Go to Gitter channel (address: **https://gitter.im/JuliaTraining/11-01-2018**) and say hello world! (You need to register to GitHub to get this done.)\n",
    "\n",
    "Other channels: Slack (https://julialang.slack.com/messages/DAHKXH48P/convo/C67910KEH-1535443385.000100/), Discourse (https://discourse.julialang.org/), GitHub issues (https://github.com/JuliaLang/julia/issues), ..."
   ]
  },
  {
   "cell_type": "markdown",
   "metadata": {},
   "source": [
    "## Exercise 2: install Git\n",
    "\n",
    "Download from https://git-scm.com/downloads\n",
    "\n",
    "At the end, you should find something like \"Git Bash\" and there writing \"git\" gives you help. Git Bash is MINGW64 (Minimalist GNU for Windows) environment, see https://en.wikipedia.org/wiki/MinGW.\n",
    "\n",
    "Alternative for MINGW: Cygwin (https://en.wikipedia.org/wiki/Cygwin9\n",
    "\n",
    "* Bash (Bourne again shell).\n",
    "\n",
    "Some graphical user interfaces for git:\n",
    "- SourceTree (https://www.sourcetreeapp.com/),\n",
    "- GitKraken (https://www.gitkraken.com/)"
   ]
  },
  {
   "cell_type": "markdown",
   "metadata": {},
   "source": [
    "## Exercise 2: using Git, cloning and creating GitHub projects\n",
    "\n",
    "Some useful git commands:\n",
    "- `git init`\n",
    "- `git status`\n",
    "- `git log`\n",
    "- `git show`\n",
    "- `git commit`\n",
    "- `git push`\n",
    "- `git pull`"
   ]
  },
  {
   "cell_type": "markdown",
   "metadata": {},
   "source": [
    "## Using ssh, generating ssh keys\n",
    "\n",
    "1. write `ssh-keygen -t rsa` in Git bash to generate ssh authentication key pair. Do not enter any password.\n",
    "\n",
    "https://fi.wikipedia.org/wiki/SSH"
   ]
  },
  {
   "cell_type": "markdown",
   "metadata": {},
   "source": [
    "1. Figure out some fancy name ending with `.jl` and create a new project.\n",
    "2. Clone project to local computer. (`git clone`)\n",
    "3. Add `README.md`. (edit file, `git add`)\n",
    "4. Commit changes. (`git commit -m \"some message\"`)\n",
    "5. Push commit back to GitHub. (`git push origin master`)\n",
    "\n",
    "(Technically, `origin` is the GitHub address and `master` is the branch name.)"
   ]
  },
  {
   "cell_type": "markdown",
   "metadata": {},
   "source": [
    "## Installing Anaconda 3\n",
    "\n",
    "In environment variables, there should be in PATH variable the following:\n",
    "\n",
    "`C:\\winprg\\Anaconda3;C:\\winprg\\Anaconda3\\Scripts;C:\\winprg\\Anaconda3\\Library\\bin`"
   ]
  },
  {
   "cell_type": "markdown",
   "metadata": {},
   "source": [
    "## Install Jupyter-lab\n",
    "\n",
    "- www.jupyterlab.org\n",
    "- `add IJulia` in Julia REPL"
   ]
  }
 ],
 "metadata": {
  "kernelspec": {
   "display_name": "Julia 1.0.0",
   "language": "julia",
   "name": "julia-1.0"
  },
  "language_info": {
   "file_extension": ".jl",
   "mimetype": "application/julia",
   "name": "julia",
   "version": "1.0.0"
  }
 },
 "nbformat": 4,
 "nbformat_minor": 2
}
