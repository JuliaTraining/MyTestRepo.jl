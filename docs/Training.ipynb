{
 "cells": [
  {
   "cell_type": "markdown",
   "metadata": {},
   "source": [
    "## Tools\n",
    "\n",
    "- Julia (https://julialang.org/downloads/)\n",
    "- SourceTree (https://www.sourcetreeapp.com/) and Git (https://git-scm.com/downloads)\n",
    "- JupyterLab (http://jupyter.org/)\n",
    "- Atom / Juno\n",
    "- GitHub and GitLab (www.github.com, https://about.gitlab.com/)\n",
    "- Git\n",
    "- Gitter\n",
    "- Salome\n",
    "- Paraview\n",
    "- Anaconda (https://www.anaconda.com/download/)"
   ]
  },
  {
   "cell_type": "markdown",
   "metadata": {},
   "source": [
    "## Exercise 1: communication\n",
    "\n",
    "Go to Gitter channel (address: **https://gitter.im/JuliaTraining/11-01-2018**) and say hello world! (You need to register to GitHub to get this done.)\n",
    "\n",
    "Other channels: Slack (https://julialang.slack.com/messages/DAHKXH48P/convo/C67910KEH-1535443385.000100/), Discourse (https://discourse.julialang.org/), GitHub issues (https://github.com/JuliaLang/julia/issues), ..."
   ]
  },
  {
   "cell_type": "markdown",
   "metadata": {},
   "source": [
    "## Exercise 2: install Git\n",
    "\n",
    "Download from https://git-scm.com/downloads\n",
    "\n",
    "At the end, you should find something like \"Git Bash\" and there writing \"git\" gives you help. Git Bash is MINGW64 (Minimalist GNU for Windows) environment, see https://en.wikipedia.org/wiki/MinGW.\n",
    "\n",
    "Alternative for MINGW: Cygwin (https://en.wikipedia.org/wiki/Cygwin9\n",
    "\n",
    "* Bash (Bourne again shell).\n",
    "\n",
    "Some graphical user interfaces for git:\n",
    "- SourceTree (https://www.sourcetreeapp.com/),\n",
    "- GitKraken (https://www.gitkraken.com/)"
   ]
  },
  {
   "cell_type": "markdown",
   "metadata": {},
   "source": [
    "## Exercise 2: using Git, cloning and creating GitHub projects\n",
    "\n",
    "Some useful git commands:\n",
    "- `git init`\n",
    "- `git status`\n",
    "- `git log`\n",
    "- `git show`\n",
    "- `git commit`\n",
    "- `git push`\n",
    "- `git pull`"
   ]
  },
  {
   "cell_type": "markdown",
   "metadata": {},
   "source": [
    "1) Clone this repository to somewhere on your local computer.\n",
    "\n",
    "Figure out some fancy name ending with `.jl` and create a new project."
   ]
  },
  {
   "cell_type": "code",
   "execution_count": 1,
   "metadata": {},
   "outputs": [
    {
     "data": {
      "text/plain": [
       "2"
      ]
     },
     "execution_count": 1,
     "metadata": {},
     "output_type": "execute_result"
    }
   ],
   "source": [
    "1+1"
   ]
  }
 ],
 "metadata": {
  "kernelspec": {
   "display_name": "Julia 1.0.0",
   "language": "julia",
   "name": "julia-1.0"
  },
  "language_info": {
   "file_extension": ".jl",
   "mimetype": "application/julia",
   "name": "julia",
   "version": "1.0.0"
  }
 },
 "nbformat": 4,
 "nbformat_minor": 2
}
